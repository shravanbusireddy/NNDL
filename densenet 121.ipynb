{
 "cells": [
  {
   "cell_type": "code",
   "execution_count": 37,
   "id": "ee8ee3b5-6d8e-4817-9b2c-622a85f8d2bb",
   "metadata": {},
   "outputs": [],
   "source": [
    "\n",
    "\n",
    "import torch\n",
    "import numpy as np\n",
    "import random\n",
    "import pandas as pd\n",
    "import os\n",
    "import torch\n",
    "import torch.nn as nn\n",
    "import torch.optim as optim\n",
    "import pandas as pd\n",
    "import matplotlib.pyplot as plt\n",
    "from torchvision import datasets,models, transforms\n",
    "from torch.utils.data import DataLoader"
   ]
  },
  {
   "cell_type": "code",
   "execution_count": 39,
   "id": "20941c26-7a88-495b-acab-fc83350e949c",
   "metadata": {},
   "outputs": [
    {
     "name": "stdout",
     "output_type": "stream",
     "text": [
      "Using device: cuda\n"
     ]
    }
   ],
   "source": [
    "device = torch.device(\"cuda\" if torch.cuda.is_available() else \"cpu\")\n",
    "print(\"Using device:\", device)\n"
   ]
  },
  {
   "cell_type": "code",
   "execution_count": 40,
   "id": "57ac595c-a47c-489d-b302-59bf9b702436",
   "metadata": {},
   "outputs": [],
   "source": [
    "import torch\n",
    "import numpy as np\n",
    "import random\n",
    "\n",
    "def set_seed(seed):\n",
    "    # Set seed for Python random module\n",
    "    random.seed(seed)\n",
    "    # Set seed for NumPy\n",
    "    np.random.seed(seed)\n",
    "    # Set seed for PyTorch\n",
    "    torch.manual_seed(seed)\n",
    "    # If using GPU, set the seed for CUDA\n",
    "    torch.cuda.manual_seed(seed)\n",
    "    # Ensures deterministic behavior in convolutional layers\n",
    "    torch.backends.cudnn.deterministic = True\n",
    "    # Disable certain optimizations for reproducibility\n",
    "    torch.backends.cudnn.benchmark = False\n",
    "\n",
    "# Set seed\n",
    "set_seed(18)"
   ]
  },
  {
   "cell_type": "code",
   "execution_count": 41,
   "id": "926b74cb-5771-458f-b1b3-730e1fbfe6d7",
   "metadata": {},
   "outputs": [
    {
     "name": "stdout",
     "output_type": "stream",
     "text": [
      "Number of samples in training set: 1400\n",
      "Class names: ['Large', 'Normal', 'Small']\n",
      "Number of samples in validation set: 200\n"
     ]
    }
   ],
   "source": [
    "train_transform = transforms.Compose([\n",
    "    transforms.RandomHorizontalFlip(p=0.5),\n",
    "    transforms.RandomRotation(degrees=20),\n",
    "    transforms.RandomResizedCrop(size=224, scale=(0.8, 1.0)),\n",
    "    transforms.ColorJitter(brightness=0.2, contrast=0.2, saturation=0.2, hue=0.1),\n",
    "    transforms.ToTensor(),\n",
    "    transforms.Normalize(mean=[0.485, 0.456, 0.406], std=[0.229, 0.224, 0.225])\n",
    "])\n",
    "valid_transform = transforms.Compose([\n",
    "    transforms.Resize(256),\n",
    "    transforms.CenterCrop(224),\n",
    "    transforms.ToTensor(),\n",
    "    transforms.Normalize(mean=[0.485, 0.456, 0.406], std=[0.229, 0.224, 0.225])\n",
    "])\n",
    "\n",
    "# Load the  datasets\n",
    "train_dataset = datasets.ImageFolder(root=\"C:/Users/shrav/OneDrive/Documents/nndl/Dog_X_ray/Dog_heart/Train\", transform=train_transform)\n",
    "valid_dataset = datasets.ImageFolder(root=\"C:/Users/shrav/OneDrive/Documents/nndl/Dog_X_ray/Dog_heart/Valid\", transform=valid_transform)\n",
    "\n",
    "# Create a DataLoader\n",
    "train_loader = DataLoader(train_dataset, batch_size=32, shuffle=True)\n",
    "valid_loader = DataLoader(valid_dataset, batch_size=32, shuffle=True)\n",
    "\n",
    "# Check dataset length and class names\n",
    "print(f\"Number of samples in training set: {len(train_dataset)}\")\n",
    "print(f\"Class names: {train_dataset.classes}\")\n",
    "print(f\"Number of samples in validation set: {len(valid_dataset)}\")"
   ]
  },
  {
   "cell_type": "code",
   "execution_count": 42,
   "id": "16d43a11-f308-43e4-bdc7-284107c6b23c",
   "metadata": {},
   "outputs": [
    {
     "name": "stderr",
     "output_type": "stream",
     "text": [
      "C:\\Users\\shrav\\anaconda3\\Lib\\site-packages\\torchvision\\models\\_utils.py:208: UserWarning: The parameter 'pretrained' is deprecated since 0.13 and may be removed in the future, please use 'weights' instead.\n",
      "  warnings.warn(\n",
      "C:\\Users\\shrav\\anaconda3\\Lib\\site-packages\\torchvision\\models\\_utils.py:223: UserWarning: Arguments other than a weight enum or `None` for 'weights' are deprecated since 0.13 and may be removed in the future. The current behavior is equivalent to passing `weights=DenseNet121_Weights.IMAGENET1K_V1`. You can also use `weights=DenseNet121_Weights.DEFAULT` to get the most up-to-date weights.\n",
      "  warnings.warn(msg)\n"
     ]
    }
   ],
   "source": [
    "# Load pretrained DenseNet-201 model\n",
    "# Initialize DenseNet121 model with pretrained weights\n",
    "model = models.densenet121(pretrained=True)\n",
    "\n",
    "# Freeze the initial layers (except the classifier)\n",
    "for param in model.parameters():\n",
    "    param.requires_grad = False\n",
    "\n",
    "# Unfreeze the last few dense blocks to fine-tune them\n",
    "for param in model.features[-3:].parameters():  # Unfreeze last few layers\n",
    "    param.requires_grad = True\n",
    "\n",
    "# Modify the classifier layer for the number of classes in your dataset\n",
    "num_classes = len(train_dataset.classes)  # Automatically detect the number of classes\n",
    "model.classifier = nn.Sequential(\n",
    "    nn.Dropout(0.4),  # Add dropout to reduce overfitting\n",
    "    nn.Linear(model.classifier.in_features, num_classes)\n",
    ")\n",
    "\n",
    "# Move model to the GPU if available\n",
    "model = model.to(device)\n",
    "\n",
    "# Define loss function and optimizer\n",
    "criterion = nn.CrossEntropyLoss()\n",
    "optimizer = torch.optim.Adam([\n",
    "    {'params': model.features.parameters(), 'lr': 1e-5},  # Lower lr for pretrained layers\n",
    "    {'params': model.classifier.parameters(), 'lr': 1e-3}  # Higher lr for new classifier layers\n",
    "])"
   ]
  },
  {
   "cell_type": "code",
   "execution_count": null,
   "id": "024865c6-e5ed-4d3d-899d-6335263e2f50",
   "metadata": {},
   "outputs": [],
   "source": []
  },
  {
   "cell_type": "code",
   "execution_count": 44,
   "id": "6f522982-42fc-4835-829f-063baa3860f1",
   "metadata": {},
   "outputs": [],
   "source": [
    "def calculate_accuracy(loader, model):\n",
    "    model.eval()  # Set model to evaluation mode\n",
    "    correct = 0\n",
    "    total = 0\n",
    "    with torch.no_grad():\n",
    "        for inputs, labels in loader:\n",
    "            inputs, labels = inputs.to(device), labels.to(device)\n",
    "            outputs = model(inputs)\n",
    "            _, predicted = torch.max(outputs.data, 1)\n",
    "            total += labels.size(0)\n",
    "            correct += (predicted == labels).sum().item()\n",
    "    \n",
    "    accuracy = 100 * correct / total\n",
    "    return accuracy"
   ]
  },
  {
   "cell_type": "code",
   "execution_count": 52,
   "id": "99bde7c1-977f-416d-bc4f-10da8eb0772b",
   "metadata": {},
   "outputs": [
    {
     "name": "stdout",
     "output_type": "stream",
     "text": [
      "Epoch [1/150], Loss: 0.9081,Train Accuracy: 63.36% valid Accuracy: 59.00%\n",
      "Epoch [2/150], Loss: 0.8084,Train Accuracy: 63.93% valid Accuracy: 57.00%\n",
      "Epoch [3/150], Loss: 0.7667,Train Accuracy: 66.36% valid Accuracy: 63.50%\n",
      "Epoch [4/150], Loss: 0.7436,Train Accuracy: 67.64% valid Accuracy: 64.50%\n",
      "Epoch [5/150], Loss: 0.7206,Train Accuracy: 65.86% valid Accuracy: 59.00%\n",
      "Epoch [6/150], Loss: 0.6917,Train Accuracy: 69.79% valid Accuracy: 65.50%\n",
      "Epoch [7/150], Loss: 0.6714,Train Accuracy: 71.50% valid Accuracy: 64.00%\n",
      "Epoch [8/150], Loss: 0.6844,Train Accuracy: 67.14% valid Accuracy: 63.00%\n",
      "Epoch [9/150], Loss: 0.6794,Train Accuracy: 71.36% valid Accuracy: 66.00%\n",
      "Epoch [10/150], Loss: 0.6675,Train Accuracy: 68.79% valid Accuracy: 64.00%\n",
      "Epoch [11/150], Loss: 0.6421,Train Accuracy: 72.64% valid Accuracy: 63.50%\n",
      "Epoch [12/150], Loss: 0.6607,Train Accuracy: 71.43% valid Accuracy: 62.00%\n",
      "Epoch [13/150], Loss: 0.6397,Train Accuracy: 74.71% valid Accuracy: 67.00%\n",
      "Epoch [14/150], Loss: 0.6319,Train Accuracy: 68.57% valid Accuracy: 61.50%\n",
      "Epoch [15/150], Loss: 0.6230,Train Accuracy: 72.79% valid Accuracy: 63.00%\n",
      "Epoch [16/150], Loss: 0.6220,Train Accuracy: 74.29% valid Accuracy: 67.00%\n",
      "Epoch [17/150], Loss: 0.6224,Train Accuracy: 77.29% valid Accuracy: 66.00%\n",
      "Epoch [18/150], Loss: 0.6111,Train Accuracy: 74.29% valid Accuracy: 62.00%\n",
      "Epoch [19/150], Loss: 0.6157,Train Accuracy: 74.29% valid Accuracy: 62.00%\n",
      "Epoch [20/150], Loss: 0.5972,Train Accuracy: 78.07% valid Accuracy: 67.00%\n",
      "Epoch [21/150], Loss: 0.5765,Train Accuracy: 76.14% valid Accuracy: 66.50%\n",
      "Epoch [22/150], Loss: 0.5925,Train Accuracy: 73.64% valid Accuracy: 65.00%\n",
      "Epoch [23/150], Loss: 0.5826,Train Accuracy: 78.43% valid Accuracy: 64.00%\n",
      "Epoch [24/150], Loss: 0.5855,Train Accuracy: 77.50% valid Accuracy: 64.00%\n",
      "Epoch [25/150], Loss: 0.5782,Train Accuracy: 78.64% valid Accuracy: 63.50%\n",
      "Epoch [26/150], Loss: 0.5784,Train Accuracy: 78.21% valid Accuracy: 66.50%\n",
      "Epoch [27/150], Loss: 0.5906,Train Accuracy: 75.50% valid Accuracy: 63.00%\n",
      "Epoch [28/150], Loss: 0.5448,Train Accuracy: 79.50% valid Accuracy: 63.50%\n",
      "Epoch [29/150], Loss: 0.5445,Train Accuracy: 78.57% valid Accuracy: 67.00%\n",
      "Epoch [30/150], Loss: 0.5640,Train Accuracy: 80.21% valid Accuracy: 65.00%\n",
      "Epoch [31/150], Loss: 0.5482,Train Accuracy: 79.57% valid Accuracy: 67.00%\n",
      "Epoch [32/150], Loss: 0.5455,Train Accuracy: 80.71% valid Accuracy: 66.00%\n",
      "Epoch [33/150], Loss: 0.5290,Train Accuracy: 80.43% valid Accuracy: 67.00%\n",
      "Epoch [34/150], Loss: 0.5349,Train Accuracy: 81.79% valid Accuracy: 68.00%\n",
      "Epoch [35/150], Loss: 0.5385,Train Accuracy: 77.93% valid Accuracy: 70.00%\n",
      "Epoch [36/150], Loss: 0.5376,Train Accuracy: 81.36% valid Accuracy: 67.00%\n",
      "Epoch [37/150], Loss: 0.5236,Train Accuracy: 81.71% valid Accuracy: 66.50%\n",
      "Epoch [38/150], Loss: 0.5208,Train Accuracy: 80.86% valid Accuracy: 68.00%\n",
      "Epoch [39/150], Loss: 0.4998,Train Accuracy: 82.93% valid Accuracy: 67.00%\n",
      "Epoch [40/150], Loss: 0.4941,Train Accuracy: 81.00% valid Accuracy: 69.00%\n",
      "Epoch [41/150], Loss: 0.5125,Train Accuracy: 81.07% valid Accuracy: 65.00%\n",
      "Epoch [42/150], Loss: 0.4896,Train Accuracy: 81.14% valid Accuracy: 70.00%\n",
      "Epoch [43/150], Loss: 0.5098,Train Accuracy: 82.93% valid Accuracy: 69.50%\n",
      "Epoch [44/150], Loss: 0.4713,Train Accuracy: 82.29% valid Accuracy: 68.00%\n",
      "Epoch [45/150], Loss: 0.5012,Train Accuracy: 85.07% valid Accuracy: 67.00%\n",
      "Epoch [46/150], Loss: 0.4941,Train Accuracy: 83.21% valid Accuracy: 68.50%\n",
      "Epoch [47/150], Loss: 0.4810,Train Accuracy: 84.36% valid Accuracy: 68.50%\n",
      "Epoch [48/150], Loss: 0.4700,Train Accuracy: 83.79% valid Accuracy: 68.00%\n",
      "Epoch [49/150], Loss: 0.4305,Train Accuracy: 84.86% valid Accuracy: 69.00%\n",
      "Epoch [50/150], Loss: 0.4820,Train Accuracy: 81.00% valid Accuracy: 66.00%\n",
      "Epoch [51/150], Loss: 0.4249,Train Accuracy: 86.50% valid Accuracy: 68.00%\n",
      "Epoch [52/150], Loss: 0.4372,Train Accuracy: 86.07% valid Accuracy: 67.50%\n",
      "Epoch [53/150], Loss: 0.4246,Train Accuracy: 84.86% valid Accuracy: 68.00%\n",
      "Epoch [54/150], Loss: 0.4432,Train Accuracy: 87.64% valid Accuracy: 67.00%\n",
      "Epoch [55/150], Loss: 0.4321,Train Accuracy: 87.43% valid Accuracy: 68.00%\n",
      "Epoch [56/150], Loss: 0.4426,Train Accuracy: 87.00% valid Accuracy: 66.00%\n",
      "Epoch [57/150], Loss: 0.4447,Train Accuracy: 86.21% valid Accuracy: 70.00%\n",
      "Epoch [58/150], Loss: 0.4300,Train Accuracy: 88.00% valid Accuracy: 69.50%\n",
      "Epoch [59/150], Loss: 0.4123,Train Accuracy: 87.71% valid Accuracy: 66.50%\n",
      "Epoch [60/150], Loss: 0.4019,Train Accuracy: 89.07% valid Accuracy: 68.50%\n",
      "Epoch [61/150], Loss: 0.4342,Train Accuracy: 87.50% valid Accuracy: 68.00%\n",
      "Epoch [62/150], Loss: 0.3967,Train Accuracy: 89.57% valid Accuracy: 66.00%\n",
      "Epoch [63/150], Loss: 0.3863,Train Accuracy: 88.64% valid Accuracy: 67.50%\n",
      "Epoch [64/150], Loss: 0.3923,Train Accuracy: 87.57% valid Accuracy: 67.50%\n",
      "Epoch [65/150], Loss: 0.3674,Train Accuracy: 89.07% valid Accuracy: 69.50%\n",
      "Epoch [66/150], Loss: 0.4002,Train Accuracy: 87.36% valid Accuracy: 69.50%\n",
      "Epoch [67/150], Loss: 0.3874,Train Accuracy: 85.93% valid Accuracy: 69.00%\n",
      "Epoch [68/150], Loss: 0.4065,Train Accuracy: 88.79% valid Accuracy: 69.00%\n",
      "Epoch [69/150], Loss: 0.3634,Train Accuracy: 88.00% valid Accuracy: 69.00%\n",
      "Epoch [70/150], Loss: 0.3549,Train Accuracy: 87.36% valid Accuracy: 69.00%\n",
      "Epoch [71/150], Loss: 0.3407,Train Accuracy: 90.00% valid Accuracy: 68.50%\n",
      "Epoch [72/150], Loss: 0.3540,Train Accuracy: 90.36% valid Accuracy: 68.50%\n",
      "Epoch [73/150], Loss: 0.3834,Train Accuracy: 89.79% valid Accuracy: 68.00%\n",
      "Epoch [74/150], Loss: 0.3420,Train Accuracy: 88.29% valid Accuracy: 71.00%\n",
      "Epoch [75/150], Loss: 0.3211,Train Accuracy: 89.57% valid Accuracy: 69.50%\n",
      "Epoch [76/150], Loss: 0.3624,Train Accuracy: 89.36% valid Accuracy: 70.00%\n",
      "Epoch [77/150], Loss: 0.3465,Train Accuracy: 91.00% valid Accuracy: 67.50%\n",
      "Epoch [78/150], Loss: 0.3238,Train Accuracy: 90.79% valid Accuracy: 71.00%\n",
      "Epoch [79/150], Loss: 0.3299,Train Accuracy: 91.43% valid Accuracy: 69.50%\n",
      "Epoch [80/150], Loss: 0.3242,Train Accuracy: 91.71% valid Accuracy: 70.50%\n",
      "Epoch [81/150], Loss: 0.3321,Train Accuracy: 91.36% valid Accuracy: 70.50%\n",
      "Epoch [82/150], Loss: 0.2995,Train Accuracy: 91.71% valid Accuracy: 70.00%\n",
      "Epoch [83/150], Loss: 0.3210,Train Accuracy: 91.50% valid Accuracy: 69.00%\n",
      "Epoch [84/150], Loss: 0.3148,Train Accuracy: 89.14% valid Accuracy: 70.50%\n",
      "Epoch [85/150], Loss: 0.2968,Train Accuracy: 92.79% valid Accuracy: 70.50%\n",
      "Epoch [86/150], Loss: 0.3162,Train Accuracy: 91.86% valid Accuracy: 68.50%\n",
      "Epoch [87/150], Loss: 0.3051,Train Accuracy: 92.29% valid Accuracy: 69.00%\n",
      "Epoch [88/150], Loss: 0.2917,Train Accuracy: 92.57% valid Accuracy: 69.00%\n",
      "Epoch [89/150], Loss: 0.3096,Train Accuracy: 91.93% valid Accuracy: 69.50%\n",
      "Epoch [90/150], Loss: 0.2553,Train Accuracy: 93.21% valid Accuracy: 70.00%\n",
      "Training complete!\n"
     ]
    }
   ],
   "source": [
    "epochs = 150\n",
    "for epoch in range(epochs):\n",
    "    model.train()  # Set model to training mode\n",
    "    running_loss = 0.0\n",
    "    for inputs, labels in train_loader:\n",
    "        inputs, labels = inputs.to(device), labels.to(device)\n",
    "\n",
    "        # Zero the parameter gradients\n",
    "        optimizer.zero_grad()\n",
    "\n",
    "        # Forward pass\n",
    "        outputs = model(inputs)\n",
    "        loss = criterion(outputs, labels)\n",
    "\n",
    "        # Backward pass and optimization\n",
    "        loss.backward()\n",
    "        optimizer.step()\n",
    "\n",
    "        running_loss += loss.item()\n",
    "\n",
    "    # Calculate training accuracy\n",
    "    train_accuracy = calculate_accuracy(train_loader, model)\n",
    "    print(f\"Epoch [{epoch + 1}/{epochs}], Loss: {running_loss / len(train_loader):.4f},Train Accuracy: {train_accuracy:.2f}%\",end=\" \")\n",
    "    valid_accuracy = calculate_accuracy(valid_loader, model)\n",
    "    print(f\"valid Accuracy: {valid_accuracy:.2f}%\")\n",
    "    if valid_accuracy >80 or train_accuracy>93:\n",
    "        break\n",
    "    \n",
    "print(\"Training complete!\")"
   ]
  },
  {
   "cell_type": "code",
   "execution_count": 55,
   "id": "f8b1b04e-adeb-4685-86b4-1708924b55b7",
   "metadata": {},
   "outputs": [],
   "source": [
    "torch.save(model, \"model_Densenet121.pt\")\n"
   ]
  },
  {
   "cell_type": "code",
   "execution_count": 57,
   "id": "35e59ac7-272d-4f8d-aae5-4600f37b250f",
   "metadata": {},
   "outputs": [],
   "source": [
    "from PIL import Image\n",
    "from torchvision import transforms\n",
    "import os\n",
    "\n",
    "# Directory containing test images (without subfolders)\n",
    "test_dir = \"C:/Users/shrav/OneDrive/Documents/nndl/Dog_X_ray/Dog_heart/Test\"\n",
    "\n",
    "# Transformation for test images\n",
    "transform = transforms.Compose([\n",
    "    transforms.Resize((224, 224)),\n",
    "    transforms.ToTensor(),\n",
    "    transforms.Normalize(mean=[0.485, 0.456, 0.406], std=[0.229, 0.224, 0.225])\n",
    "])\n",
    "\n",
    "# Load images\n",
    "def load_images_from_directory(directory):\n",
    "    images = []\n",
    "    file_names = []\n",
    "    for file in os.listdir(directory):\n",
    "        if file.endswith(('.png', '.jpg', '.jpeg')):  # Valid image formats\n",
    "            file_path = os.path.join(directory, file)\n",
    "            image = Image.open(file_path).convert('RGB')\n",
    "            images.append(transform(image))  # Apply transformation\n",
    "            file_names.append(file)  # Save the file name\n",
    "    return images, file_names\n",
    "\n",
    "images, file_names = load_images_from_directory(test_dir)"
   ]
  },
  {
   "cell_type": "code",
   "execution_count": 58,
   "id": "7b9462ed-b96f-463e-9673-ae5a914e1157",
   "metadata": {},
   "outputs": [],
   "source": [
    "images_tensor = torch.stack(images).to(device)\n",
    "\n",
    "# Get predictions\n",
    "model.eval()\n",
    "with torch.no_grad():\n",
    "    outputs = model(images_tensor)\n",
    "    _, predictions = torch.max(outputs, 1)"
   ]
  },
  {
   "cell_type": "code",
   "execution_count": 60,
   "id": "160c3473-f378-4cd6-9096-cee9b7993c51",
   "metadata": {},
   "outputs": [
    {
     "data": {
      "text/plain": [
       "tensor([0, 0, 2, 2, 2, 1, 0, 0, 1, 1, 1, 0, 0, 0, 0, 2, 1, 2, 1, 0, 1, 1, 2, 0,\n",
       "        0, 0, 0, 0, 0, 0, 1, 0, 0, 0, 0, 0, 2, 0, 2, 0, 1, 2, 0, 0, 0, 1, 0, 0,\n",
       "        1, 1, 0, 0, 0, 1, 1, 2, 0, 2, 0, 0, 1, 0, 0, 0, 0, 0, 0, 1, 0, 0, 1, 2,\n",
       "        0, 1, 0, 0, 1, 1, 1, 1, 1, 1, 2, 0, 0, 2, 1, 2, 1, 2, 1, 0, 1, 0, 1, 2,\n",
       "        0, 0, 1, 0, 0, 2, 0, 1, 2, 0, 0, 0, 2, 2, 2, 0, 0, 2, 0, 0, 0, 0, 1, 1,\n",
       "        0, 1, 1, 2, 1, 1, 2, 1, 0, 0, 0, 2, 2, 1, 0, 1, 1, 0, 0, 0, 1, 0, 0, 0,\n",
       "        0, 1, 0, 2, 2, 2, 2, 0, 1, 0, 0, 0, 1, 1, 0, 1, 2, 0, 0, 0, 1, 1, 0, 2,\n",
       "        1, 1, 1, 1, 1, 0, 2, 1, 1, 0, 1, 1, 0, 0, 1, 2, 2, 0, 0, 0, 0, 0, 0, 0,\n",
       "        0, 0, 1, 0, 1, 1, 1, 2, 2, 0, 2, 1, 0, 0, 1, 0, 1, 0, 0, 1, 1, 1, 1, 0,\n",
       "        0, 0, 1, 1, 0, 1, 0, 0, 0, 1, 1, 0, 1, 0, 0, 2, 1, 2, 0, 0, 0, 0, 0, 1,\n",
       "        1, 0, 0, 1, 0, 1, 1, 2, 0, 0, 0, 0, 2, 1, 1, 0, 1, 2, 1, 1, 0, 1, 2, 0,\n",
       "        1, 2, 2, 1, 0, 1, 2, 1, 2, 1, 0, 0, 0, 0, 1, 0, 1, 0, 0, 1, 0, 0, 1, 1,\n",
       "        0, 1, 2, 1, 0, 1, 1, 1, 0, 0, 1, 0, 1, 2, 1, 0, 0, 0, 1, 0, 0, 0, 2, 2,\n",
       "        0, 0, 2, 1, 2, 1, 2, 1, 1, 0, 0, 0, 1, 2, 2, 1, 0, 1, 0, 0, 2, 1, 0, 0,\n",
       "        2, 1, 1, 0, 0, 0, 1, 1, 0, 1, 0, 0, 0, 1, 1, 0, 1, 0, 1, 2, 0, 1, 1, 1,\n",
       "        0, 0, 0, 2, 2, 1, 0, 1, 0, 0, 2, 2, 1, 2, 1, 0, 0, 1, 0, 0, 0, 0, 1, 0,\n",
       "        1, 1, 1, 0, 0, 2, 0, 0, 1, 0, 0, 1, 1, 0, 0, 0], device='cuda:0')"
      ]
     },
     "execution_count": 60,
     "metadata": {},
     "output_type": "execute_result"
    }
   ],
   "source": [
    "predictions"
   ]
  },
  {
   "cell_type": "code",
   "execution_count": 63,
   "id": "d08fbaab-791a-41fc-bec9-a7e0ae7346bf",
   "metadata": {},
   "outputs": [],
   "source": [
    "cpu_pred=predictions.cpu().numpy()\n",
    "final=pd.DataFrame()\n",
    "final['filename']=file_names\n",
    "final['label']=cpu_pred"
   ]
  },
  {
   "cell_type": "code",
   "execution_count": 64,
   "id": "75e4d09f-f0a3-4bb6-9cc2-b5670a42e5dc",
   "metadata": {},
   "outputs": [
    {
     "data": {
      "text/html": [
       "<div>\n",
       "<style scoped>\n",
       "    .dataframe tbody tr th:only-of-type {\n",
       "        vertical-align: middle;\n",
       "    }\n",
       "\n",
       "    .dataframe tbody tr th {\n",
       "        vertical-align: top;\n",
       "    }\n",
       "\n",
       "    .dataframe thead th {\n",
       "        text-align: right;\n",
       "    }\n",
       "</style>\n",
       "<table border=\"1\" class=\"dataframe\">\n",
       "  <thead>\n",
       "    <tr style=\"text-align: right;\">\n",
       "      <th></th>\n",
       "      <th>filename</th>\n",
       "      <th>label</th>\n",
       "    </tr>\n",
       "  </thead>\n",
       "  <tbody>\n",
       "    <tr>\n",
       "      <th>0</th>\n",
       "      <td>100.png</td>\n",
       "      <td>0</td>\n",
       "    </tr>\n",
       "    <tr>\n",
       "      <th>1</th>\n",
       "      <td>1621.png</td>\n",
       "      <td>0</td>\n",
       "    </tr>\n",
       "    <tr>\n",
       "      <th>2</th>\n",
       "      <td>1622.png</td>\n",
       "      <td>2</td>\n",
       "    </tr>\n",
       "    <tr>\n",
       "      <th>3</th>\n",
       "      <td>1623.png</td>\n",
       "      <td>2</td>\n",
       "    </tr>\n",
       "    <tr>\n",
       "      <th>4</th>\n",
       "      <td>1624.png</td>\n",
       "      <td>2</td>\n",
       "    </tr>\n",
       "  </tbody>\n",
       "</table>\n",
       "</div>"
      ],
      "text/plain": [
       "   filename  label\n",
       "0   100.png      0\n",
       "1  1621.png      0\n",
       "2  1622.png      2\n",
       "3  1623.png      2\n",
       "4  1624.png      2"
      ]
     },
     "execution_count": 64,
     "metadata": {},
     "output_type": "execute_result"
    }
   ],
   "source": [
    "final.head()"
   ]
  },
  {
   "cell_type": "code",
   "execution_count": 67,
   "id": "4a63709b-43ab-4155-8d60-6ed1dd574647",
   "metadata": {},
   "outputs": [],
   "source": [
    "final.to_csv('predctionsDensenet201.csv',index=False,header=False)"
   ]
  },
  {
   "attachments": {
    "cc480180-78a1-4e2c-884f-0f2aafbfff4c.jpeg": {
     "image/jpeg": "[encoded data removed]"
    }
   },
   "cell_type": "markdown",
   "id": "7e6028cf-7561-4739-9580-548246ed1a13",
   "metadata": {},
   "source": [
    "![densenet201.jpeg](attachment:cc480180-78a1-4e2c-884f-0f2aafbfff4c.jpeg)"
   ]
  },
  {
   "cell_type": "code",
   "execution_count": null,
   "id": "79efc09e-20a2-4c93-9e21-a0d64ef74507",
   "metadata": {},
   "outputs": [],
   "source": []
  }
 ],
 "metadata": {
  "kernelspec": {
   "display_name": "Python 3 (ipykernel)",
   "language": "python",
   "name": "python3"
  },
  "language_info": {
   "codemirror_mode": {
    "name": "ipython",
    "version": 3
   },
   "file_extension": ".py",
   "mimetype": "text/x-python",
   "name": "python",
   "nbconvert_exporter": "python",
   "pygments_lexer": "ipython3",
   "version": "3.12.4"
  }
 },
 "nbformat": 4,
 "nbformat_minor": 5
}
